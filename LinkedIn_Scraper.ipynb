{
 "cells": [
  {
   "cell_type": "code",
   "execution_count": 1,
   "id": "f57c8d09-d1ac-4f76-927a-c2507836097d",
   "metadata": {},
   "outputs": [],
   "source": [
    "from selenium import webdriver\n",
    "from selenium.webdriver.chrome.options import Options\n",
    "from selenium.webdriver import FirefoxOptions\n",
    "from webdriver_manager.chrome import ChromeDriverManager\n",
    "import time\n",
    "import pandas as pd\n",
    "import numpy as np\n",
    "import re\n",
    "\n",
    "from selenium.webdriver.common.keys import Keys\n",
    "from selenium.webdriver.chrome.service import Service\n",
    "from selenium.webdriver.common.by import By\n",
    "from selenium.webdriver.support.wait import WebDriverWait\n",
    "from selenium.webdriver.support import expected_conditions as EC\n",
    "from getpass import getpass"
   ]
  },
  {
   "cell_type": "code",
   "execution_count": 2,
   "id": "3b1fbaca-9b86-419a-9640-c0e05b937419",
   "metadata": {},
   "outputs": [
    {
     "name": "stdout",
     "output_type": "stream",
     "text": [
      "Please enter your LinkedIn sign in email: \n"
     ]
    },
    {
     "name": "stdin",
     "output_type": "stream",
     "text": [
      " minhanh010503@gmail.com\n"
     ]
    },
    {
     "name": "stdout",
     "output_type": "stream",
     "text": [
      "Please enter your password: \n"
     ]
    },
    {
     "name": "stdin",
     "output_type": "stream",
     "text": [
      " ········\n"
     ]
    }
   ],
   "source": [
    "# Boot up a Firefox webdriver\n",
    "driver = webdriver.Firefox() # This might takes a while to boot up\n",
    "time.sleep(5)\n",
    "\n",
    "# Login to LinkedIn\n",
    "url = \"https://linkedin.com\"\n",
    "driver.get(url)\n",
    "time.sleep(2)\n",
    "\n",
    "# Click on the Sign In option\n",
    "href = \"https://www.linkedin.com/login\"\n",
    "element = driver.find_element(By.XPATH, f\".//a[@href='{href}']\")\n",
    "element.click()\n",
    "time.sleep(1)\n",
    "\n",
    "# Enter your LinkedIn sign in email\n",
    "element = driver.find_element(By.XPATH, f\".//input[@id='username']\")\n",
    "print(\"Please enter your LinkedIn sign in email: \")\n",
    "email = input()\n",
    "element.send_keys(email)\n",
    "time.sleep(1)\n",
    "\n",
    "# Enter your LinkedIn password, this is redacted and won't last after the session\n",
    "element = driver.find_element(By.XPATH, f\".//input[@id='password']\")\n",
    "print(\"Please enter your password: \")\n",
    "password = getpass()\n",
    "element.send_keys(password)\n",
    "time.sleep(1)\n",
    "\n",
    "# Click Sign in button\n",
    "element = driver.find_element(By.XPATH, f\".//button[@aria-label='Sign in']\")\n",
    "element.click()"
   ]
  },
  {
   "cell_type": "code",
   "execution_count": null,
   "id": "d6faf0ce-d6bd-4c5b-af40-0ec62a3a1f6b",
   "metadata": {},
   "outputs": [],
   "source": [
    "# If there's a popup verification window\n",
    "\n",
    "# element = driver.find_element(By.XPATH, f\".//input[@id='input__email_verification_pin']\")\n",
    "# print(\"Please enter your email verification code: \")\n",
    "# code = input()\n",
    "# element.send_keys(code)\n",
    "# time.sleep(1)\n",
    "\n",
    "# element = driver.find_element(By.XPATH, f\".//button[@id='email-pin-submit-button']\")\n",
    "# element.click()\n",
    "# time.sleep(1)"
   ]
  },
  {
   "cell_type": "code",
   "execution_count": 3,
   "id": "441dd7c5-2a4e-4db9-b563-48d5b64811ee",
   "metadata": {},
   "outputs": [],
   "source": [
    "# Enter '?' into the Search bar\n",
    "element = driver.find_element(By.XPATH, f\".//input[@aria-label='Search']\")\n",
    "element.send_keys('?')\n",
    "element.send_keys(Keys.ENTER)\n",
    "time.sleep(3)\n",
    "\n",
    "# Click on 'People' \n",
    "element = driver.find_element(By.XPATH, \".//button[text()='People']\")\n",
    "element.click()\n",
    "time.sleep(1)"
   ]
  },
  {
   "cell_type": "code",
   "execution_count": 4,
   "id": "fbfa0e79-22c6-46ef-86b4-b2cde1ca231c",
   "metadata": {},
   "outputs": [],
   "source": [
    "# Click on 'All filters'\n",
    "element = driver.find_element(By.XPATH, f\".//button[text()='All filters']\")\n",
    "element.click()\n",
    "time.sleep(1)\n",
    "\n",
    "# Click on 'Add a location'\n",
    "element = driver.find_element(By.XPATH, f\".//span[text()='Add a location']\")\n",
    "element.click()\n",
    "time.sleep(1)\n",
    "\n",
    "# Find only people in the Detroit area\n",
    "element = driver.find_element(By.XPATH, f\".//input[@aria-label='Add a location']\")\n",
    "element.clear()\n",
    "element.send_keys(\"Detroit, Michigan, United States\")\n",
    "time.sleep(1)\n",
    "\n",
    "# Click on the Detroit popup\n",
    "element = driver.find_element(By.XPATH, f\".//div[@class='basic-typeahead__triggered-content ']\")\n",
    "element.click()\n",
    "time.sleep(1)\n",
    "\n",
    "# Send '?' to both First and Last name (just as textholder)\n",
    "element = driver.find_element(By.XPATH, f\".//label[text()='First name']\")\n",
    "element = element.find_element(By.TAG_NAME, \"input\")\n",
    "element.send_keys('?')\n",
    "time.sleep(1)\n",
    "\n",
    "element = driver.find_element(By.XPATH, f\".//label[text()='Last name']\")\n",
    "element = element.find_element(By.TAG_NAME, \"input\")\n",
    "element.send_keys('?')\n",
    "time.sleep(1)\n",
    "\n",
    "# Click 'Show results'\n",
    "element = driver.find_element(By.XPATH, f\".//span[text()='Show results']\")\n",
    "element.click()\n",
    "time.sleep(1)"
   ]
  },
  {
   "cell_type": "code",
   "execution_count": 16,
   "id": "ffdc03de-69ed-4e66-a680-e2ca6672766a",
   "metadata": {},
   "outputs": [],
   "source": [
    "official = pd.read_excel('List of names 1-7-2.xlsx')\n",
    "\n",
    "# Search up names from the list, will loop through the whole data frame once the code works\n",
    "element = driver.find_element(By.XPATH, f\".//button[text()='Keywords']\")\n",
    "element.click()\n",
    "time.sleep(1)\n",
    "                              \n",
    "element = driver.find_element(By.XPATH, f\".//label[text()='First name']\")\n",
    "element = element.find_element(By.TAG_NAME, \"input\")\n",
    "element.clear()\n",
    "element.send_keys(official.loc[0, 'First'])\n",
    "time.sleep(1)\n",
    "\n",
    "element = driver.find_element(By.XPATH, f\".//label[text()='Last name']\")\n",
    "element = element.find_element(By.TAG_NAME, \"input\")\n",
    "element.clear()\n",
    "element.send_keys(official.loc[0, 'Last'])\n",
    "time.sleep(1)\n",
    "\n",
    "# Click 'Show results', cannot be done for some reason, I'll figure it out later\n",
    "element = driver.find_element(By.XPATH, f\".//button[@aria-label='Apply current filter to show results']\")\n",
    "driver.execute_script(\"arguments[0].click();\", element)\n",
    "time.sleep(1)"
   ]
  }
 ],
 "metadata": {
  "kernelspec": {
   "display_name": "Python 3 (ipykernel)",
   "language": "python",
   "name": "python3"
  },
  "language_info": {
   "codemirror_mode": {
    "name": "ipython",
    "version": 3
   },
   "file_extension": ".py",
   "mimetype": "text/x-python",
   "name": "python",
   "nbconvert_exporter": "python",
   "pygments_lexer": "ipython3",
   "version": "3.11.7"
  }
 },
 "nbformat": 4,
 "nbformat_minor": 5
}
